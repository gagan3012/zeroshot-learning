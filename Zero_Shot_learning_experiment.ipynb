{
 "cells": [
  {
   "cell_type": "markdown",
   "metadata": {
    "colab_type": "text",
    "id": "view-in-github"
   },
   "source": [
    "<a href=\"https://colab.research.google.com/github/gagan3012/zeroshot-learning/blob/master/Zero_Shot_learning_experiment.ipynb\" target=\"_parent\"><img src=\"https://colab.research.google.com/assets/colab-badge.svg\" alt=\"Open In Colab\"/></a>"
   ]
  },
  {
   "cell_type": "code",
   "execution_count": null,
   "metadata": {
    "id": "m9Xl0NnDx0NI"
   },
   "outputs": [],
   "source": [
    "import pandas as pd\n",
    "\n",
    "df = pd.read_csv(\"/content/bquxjob_3bc46ddf_17ce26263bb.csv\")\n",
    "df.head()"
   ]
  },
  {
   "cell_type": "code",
   "execution_count": null,
   "metadata": {
    "id": "C35EOzq63UoA"
   },
   "outputs": [],
   "source": [
    "!pip install newspaper3k==0.2.8"
   ]
  },
  {
   "cell_type": "code",
   "execution_count": null,
   "metadata": {
    "id": "tYTt3_Fm03u3"
   },
   "outputs": [],
   "source": [
    "from bs4 import BeautifulSoup\n",
    "import newspaper\n",
    "\n",
    "\n",
    "def get_article_metadata_newspaper(df):\n",
    "    \"\"\"\n",
    "    Get/extract the metadata of news article, including, article heading and main content, from it's URL.\n",
    "    Arguments:\n",
    "        url: (str) link of news article (starting with http:// or https://) \n",
    "    Returns:\n",
    "        dict:\n",
    "            title: (str) extracted heading of news article\n",
    "            text: (str) extracted main content of news article \n",
    "    \"\"\"\n",
    "\n",
    "    df = df.drop_duplicates(subset=['SOURCEURL'],ignore_index = True)\n",
    "    df[\"text\"] = 0\n",
    "    df[\"title\"]= 0\n",
    "\n",
    "    for i in range(len(df)):\n",
    "      url = df['SOURCEURL'][i]\n",
    "      article = newspaper.Article(url)\n",
    "\n",
    "      try:\n",
    "        article.download()\n",
    "        article.parse()\n",
    "      except:\n",
    "        continue\n",
    "\n",
    "      df[\"text\"][i] = article.text\n",
    "      df[\"title\"][i] = article.title\n",
    " \n",
    "    return df\n",
    "    "
   ]
  },
  {
   "cell_type": "code",
   "execution_count": null,
   "metadata": {
    "id": "ek79OLEw3Lbq"
   },
   "outputs": [],
   "source": [
    "df_new = get_article_metadata_newspaper(df)"
   ]
  },
  {
   "cell_type": "code",
   "execution_count": null,
   "metadata": {
    "id": "7kUvF0d06XmV"
   },
   "outputs": [],
   "source": [
    "df_new.head()"
   ]
  },
  {
   "cell_type": "code",
   "execution_count": null,
   "metadata": {
    "colab": {
     "base_uri": "https://localhost:8080/"
    },
    "id": "4ESG4tOpDzjg",
    "outputId": "98f43163-3b65-4792-e229-be5078af0215"
   },
   "outputs": [],
   "source": [
    "!pip install transformers"
   ]
  },
  {
   "cell_type": "code",
   "execution_count": null,
   "metadata": {
    "colab": {
     "base_uri": "https://localhost:8080/"
    },
    "id": "4U_x523DIb8n",
    "outputId": "3e56fe5b-c384-4731-e535-1eb3be858537"
   },
   "outputs": [],
   "source": [
    "len(df_new[\"text\"][0])"
   ]
  },
  {
   "cell_type": "code",
   "execution_count": null,
   "metadata": {
    "id": "-2PLWQqQkNVA"
   },
   "outputs": [],
   "source": [
    "import re\n",
    "def stringupdate(i):\n",
    "  strList = df_new[\"Themes\"][i].split(\";\")\n",
    "\n",
    "  strList = list(map(lambda x: str(x).replace('WB_', ''), strList))\n",
    "\n",
    "  strList = list(map(lambda x: re.sub('^\\d+', '', x), strList))\n",
    "\n",
    "  strList = list(map(lambda x: str(x).replace('_', '', 1), strList))\n",
    "\n",
    "  strList = list(filter(None, strList))\n",
    "\n",
    "  return strList"
   ]
  },
  {
   "cell_type": "markdown",
   "metadata": {
    "id": "Tai__nZ0tHlN"
   },
   "source": [
    "##### ZSL\n",
    "This is the checkpoint for bart-large after being trained on the MultiNLI (MNLI) dataset.\n",
    "\n",
    "Additional information about this model:\n",
    "\n",
    "The bart-large model page\n",
    "BART: Denoising Sequence-to-Sequence Pre-training for Natural Language Generation, Translation, and Comprehension\n",
    "BART fairseq implementation\n",
    "NLI-based Zero Shot Text Classification\n",
    "Yin et al. proposed a method for using pre-trained NLI models as a ready-made zero-shot sequence classifiers. The method works by posing the sequence to be classified as the NLI premise and to construct a hypothesis from each candidate label. For example, if we want to evaluate whether a sequence belongs to the class \"politics\", we could construct a hypothesis of This text is about politics.. The probabilities for entailment and contradiction are then converted to label probabilities.\n",
    "\n",
    "This method is surprisingly effective in many cases, particularly when used with larger pre-trained models like BART and Roberta. See this blog post for a more expansive introduction to this and other zero shot methods, and see the code snippets below for examples of using this model for zero-shot classification both with Hugging Face's built-in pipeline and with native Transformers/PyTorch code."
   ]
  },
  {
   "cell_type": "code",
   "execution_count": null,
   "metadata": {
    "id": "sZJosrMtB88E"
   },
   "outputs": [],
   "source": [
    "from transformers import pipeline\n",
    "classifier = pipeline(\"zero-shot-classification\",\n",
    "                      model=\"facebook/bart-large-mnli\")"
   ]
  },
  {
   "cell_type": "code",
   "execution_count": null,
   "metadata": {
    "colab": {
     "base_uri": "https://localhost:8080/"
    },
    "id": "Xg2w8OnEDy0m",
    "outputId": "803e3cdf-f50a-4db6-98ca-dc66cbb8a6ea"
   },
   "outputs": [],
   "source": [
    "sequence_to_classify =df_new[\"title\"][3]\n",
    "candidate_labels = stringupdate(3)\n",
    "classifier(sequence_to_classify, candidate_labels, multi_label=True)"
   ]
  },
  {
   "cell_type": "code",
   "execution_count": null,
   "metadata": {
    "id": "mCGijDkYSoWO"
   },
   "outputs": [],
   "source": []
  }
 ],
 "metadata": {
  "accelerator": "GPU",
  "colab": {
   "authorship_tag": "ABX9TyPtgWslzbshuGIZldABw57I",
   "collapsed_sections": [],
   "include_colab_link": true,
   "name": "Zero Shot learning experiment.ipynb",
   "provenance": []
  },
  "kernelspec": {
   "display_name": "Python 3",
   "name": "python3"
  },
  "language_info": {
   "name": "python"
  }
 },
 "nbformat": 4,
 "nbformat_minor": 0
}
